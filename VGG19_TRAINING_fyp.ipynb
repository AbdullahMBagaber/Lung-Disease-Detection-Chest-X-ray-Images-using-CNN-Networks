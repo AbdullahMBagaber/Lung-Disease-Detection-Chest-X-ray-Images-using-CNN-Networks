{
  "nbformat": 4,
  "nbformat_minor": 0,
  "metadata": {
    "colab": {
      "provenance": [],
      "gpuType": "T4",
      "private_outputs": true
    },
    "kernelspec": {
      "name": "python3",
      "display_name": "Python 3"
    },
    "language_info": {
      "name": "python"
    },
    "accelerator": "GPU",
    "gpuClass": "standard"
  },
  "cells": [
    {
      "cell_type": "code",
      "metadata": {
        "id": "2ILgjwcwhHfd"
      },
      "source": [
        "import os\n",
        "from pydrive.auth import GoogleAuth\n",
        "from pydrive.drive import GoogleDrive\n",
        "from google.colab import auth\n",
        "from oauth2client.client import GoogleCredentials\n"
      ],
      "execution_count": null,
      "outputs": []
    },
    {
      "cell_type": "code",
      "metadata": {
        "id": "ECsxHBXMhMp3"
      },
      "source": [
        "!pip install Augmentor"
      ],
      "execution_count": null,
      "outputs": []
    },
    {
      "cell_type": "code",
      "source": [
        "from google.colab import drive\n",
        "drive.mount('/content/drive')"
      ],
      "metadata": {
        "id": "eMcjSZVlYCHG"
      },
      "execution_count": null,
      "outputs": []
    },
    {
      "cell_type": "code",
      "source": [
        "from keras.layers import Input, Lambda, Conv2D, MaxPool2D ,Dense, Flatten, Dropout\n",
        "from keras.models import Model\n",
        "from keras.applications.vgg19 import VGG19\n",
        "from keras.applications.vgg19 import preprocess_input\n",
        "from keras.preprocessing import image\n",
        "from keras.preprocessing.image import ImageDataGenerator\n",
        "from keras.models import Sequential\n",
        "import numpy as np\n",
        "from glob import glob\n",
        "import matplotlib.pyplot as plt"
      ],
      "metadata": {
        "id": "U7P8Xy2zYFEl"
      },
      "execution_count": null,
      "outputs": []
    },
    {
      "cell_type": "code",
      "source": [
        "model = VGG19()\n",
        "model.summary()"
      ],
      "metadata": {
        "id": "tKLKh2ksEHcE"
      },
      "execution_count": null,
      "outputs": []
    },
    {
      "cell_type": "code",
      "source": [
        "# re-size all the images to this\n",
        "IMAGE_SIZE = [224, 224]\n",
        "\n",
        "train_path = '/content/drive/MyDrive/FYP/DataSet/Trainning'\n",
        "valid_path = '/content/drive/MyDrive/FYP/DataSet/Validation'\n",
        "test_path = '/content/drive/MyDrive/FYP/DataSet/Test'\n",
        "\n",
        "\n",
        "# add preprocessing layer to the front of VGG\n",
        "# sc: use resnet, solve problem for vanishing gradient\n",
        "vgg = VGG19(input_shape=IMAGE_SIZE + [3], weights='imagenet', include_top=False)\n",
        "\n",
        "# don't train existing weights\n",
        "for layer in vgg.layers:\n",
        "    layer.trainable = False\n",
        "\n",
        "# our layers - you can add more if you want\n",
        "x = Flatten()(vgg.output)\n",
        "x = Dense(4096, activation='relu')(x)\n",
        "x = Dense(4096, activation='relu')(x)\n",
        "prediction = Dense(2, activation='softmax')(x)\n",
        "# create a model object\n",
        "model = Model(inputs=vgg.input, outputs=prediction)\n",
        "\n",
        "# view the structure of the model\n",
        "model.summary()\n",
        "\n",
        "# tell the model what cost and optimization method to use\n",
        "model.compile(\n",
        "    loss='categorical_crossentropy',\n",
        "    optimizer='adam',\n",
        "    metrics=['accuracy']\n",
        ")\n",
        "\n",
        "\n"
      ],
      "metadata": {
        "id": "FCegHp2DmykG"
      },
      "execution_count": null,
      "outputs": []
    },
    {
      "cell_type": "code",
      "source": [
        "from keras.preprocessing.image import ImageDataGenerator\n",
        "\n",
        "train_datagen = ImageDataGenerator(rescale=1. / 255,\n",
        "                                   shear_range=0.2,\n",
        "                                   zoom_range=0.2,\n",
        "                                   horizontal_flip=True)\n",
        "\n",
        "test_datagen = ImageDataGenerator(rescale=1. / 255)\n",
        "\n",
        "training_set = train_datagen.flow_from_directory(train_path,\n",
        "                                                 target_size=(224, 224),\n",
        "                                                 batch_size=32,\n",
        "                                                 class_mode='categorical')\n",
        "\n",
        "validation_set = test_datagen.flow_from_directory(valid_path,\n",
        "                                                  target_size=(224, 224),\n",
        "                                                  batch_size=32,\n",
        "                                                  class_mode='categorical')\n"
      ],
      "metadata": {
        "id": "DrCP7p7RYRMu"
      },
      "execution_count": null,
      "outputs": []
    },
    {
      "cell_type": "code",
      "source": [
        "from os import listdir\n",
        "\n",
        "label = listdir(train_path)\n",
        "numClass = len(label)\n",
        "print (label)"
      ],
      "metadata": {
        "id": "b1kXWQ5Fc2yt"
      },
      "execution_count": null,
      "outputs": []
    },
    {
      "cell_type": "code",
      "source": [
        "r = model.fit(training_set, epochs=20, validation_data = validation_set, validation_steps = 1)"
      ],
      "metadata": {
        "id": "GhQxd93rc50A"
      },
      "execution_count": null,
      "outputs": []
    },
    {
      "cell_type": "code",
      "source": [
        "model.save(\"/content/drive/MyDrive/FYP/modelV2_VGG19_8to2_ep20.h5\")"
      ],
      "metadata": {
        "id": "qDsky-Jtc_6P"
      },
      "execution_count": null,
      "outputs": []
    },
    {
      "cell_type": "code",
      "source": [
        "import matplotlib as mpl\n",
        "mpl.rcParams.update(mpl.rcParamsDefault)\n",
        "\n",
        "# loss\n",
        "plt.figure(1)\n",
        "plt.plot(r.history['loss'], label='train loss')\n",
        "plt.plot(r.history['val_loss'], label='val loss')\n",
        "plt.legend()\n",
        "plt.title(\"train-val loss graph\")\n",
        "plt.xlabel(\"Epoch\")\n",
        "plt.ylabel(\"Loss\")\n",
        "plt.show()\n",
        "plt.savefig(\"/content/drive/MyDrive/FYP/Result\")\n",
        "\n",
        "# accuracies\n",
        "plt.figure(2)\n",
        "plt.plot(r.history['accuracy'], label='train acc')\n",
        "plt.plot(r.history['val_accuracy'], label='val acc')\n",
        "plt.legend()\n",
        "plt.title(\"train-val accuracy graph\")\n",
        "plt.xlabel(\"Epoch\")\n",
        "plt.ylabel(\"Accuracy\")\n",
        "plt.show()\n",
        "plt.savefig(\"/content/drive/MyDrive/FYP/Result\")"
      ],
      "metadata": {
        "id": "BJp4Gj3idKRr"
      },
      "execution_count": null,
      "outputs": []
    },
    {
      "cell_type": "code",
      "source": [
        "import numpy as np\n",
        "train_imgs, train_labels = next(training_set)\n",
        "# ensemble predictions and submit\n",
        "train_results = np.zeros( (1400,2) )\n",
        "\n",
        "train_results = model.predict(train_imgs, verbose = 1)\n",
        "train_results = np.argmax(train_results, axis = -1)\n",
        "print(train_results)\n",
        "train_labels = np.argmax(train_labels,axis = -1)\n",
        "train_labels\n",
        "print(train_labels)\n",
        "# Performance Evaluation\n",
        "FP = len(np.where(train_results - train_labels == 1)[0])\n",
        "FN = len(np.where(train_results - train_labels == -1)[0])\n",
        "TP = len(np.where(train_results + train_labels == 0)[0])\n",
        "TN = len(np.where(train_results + train_labels == 2)[0])\n",
        "cmat = [[TP, FP], [FN, TN]]\n",
        "total = TP + FP + FN + TN\n",
        "accuracy = (TP + TN) / total * 100\n",
        "sensitivity = TP / (TP + FN) * 100\n",
        "specificity = TN / (TN + FP) * 100\n",
        "precision = TP / (TP + FP) * 100\n",
        "f1_score = (2 * precision * sensitivity) / (precision + sensitivity)\n",
        "print('Training accuracy is: {0:0.2f}%'.format(accuracy))\n",
        "print('Training sensitivity is: {0:0.2f}%'.format(sensitivity))\n",
        "print('Training specificity is: {0:0.2f}%'.format(specificity))\n",
        "print('Training precision is: {0:0.2f}%'.format(precision))\n",
        "print('Training F1-score: {0:0.2f}'.format(f1_score))"
      ],
      "metadata": {
        "id": "GR_95ANqemlf"
      },
      "execution_count": null,
      "outputs": []
    },
    {
      "cell_type": "markdown",
      "source": [],
      "metadata": {
        "id": "PFx0rspKyOAq"
      }
    }
  ]
}