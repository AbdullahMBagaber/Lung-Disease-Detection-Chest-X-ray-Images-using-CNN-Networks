{
  "nbformat": 4,
  "nbformat_minor": 0,
  "metadata": {
    "colab": {
      "provenance": [],
      "private_outputs": true,
      "gpuType": "T4"
    },
    "kernelspec": {
      "name": "python3",
      "display_name": "Python 3"
    },
    "language_info": {
      "name": "python"
    },
    "accelerator": "GPU",
    "gpuClass": "standard"
  },
  "cells": [
    {
      "cell_type": "code",
      "execution_count": null,
      "metadata": {
        "id": "R9tCoPz2wUgm"
      },
      "outputs": [],
      "source": [
        "import os\n",
        "from pydrive.auth import GoogleAuth\n",
        "from pydrive.drive import GoogleDrive\n",
        "from google.colab import auth\n",
        "from oauth2client.client import GoogleCredentials"
      ]
    },
    {
      "cell_type": "code",
      "source": [
        "!pip install Augmentor"
      ],
      "metadata": {
        "id": "xY-hlsqG_DOF"
      },
      "execution_count": null,
      "outputs": []
    },
    {
      "cell_type": "code",
      "execution_count": null,
      "metadata": {
        "id": "bScs0Usfwmh7"
      },
      "outputs": [],
      "source": [
        "from google.colab import drive\n",
        "drive.mount('/content/drive')"
      ]
    },
    {
      "cell_type": "code",
      "source": [
        "from keras.layers import Input, Lambda, Conv2D, MaxPool2D, Dense, Flatten, Dropout\n",
        "from keras.models import Model\n",
        "from keras.applications.vgg19 import VGG19\n",
        "from keras.applications.vgg19 import preprocess_input\n",
        "from keras.preprocessing import image\n",
        "from keras.preprocessing.image import ImageDataGenerator\n",
        "from keras.models import Sequential\n",
        "import numpy as np\n",
        "from glob import glob\n",
        "import matplotlib.pyplot as plt\n"
      ],
      "metadata": {
        "id": "faYLztJub8Yz"
      },
      "execution_count": null,
      "outputs": []
    },
    {
      "cell_type": "code",
      "execution_count": null,
      "metadata": {
        "id": "HeVUcrQoxDYl"
      },
      "outputs": [],
      "source": [
        "# re-size all the images to this\n",
        "IMAGE_SIZE = [224, 224]\n",
        "\n",
        "train_path = '/content/drive/MyDrive/FYP/DataSet/Trainning'\n",
        "valid_path = '/content/drive/MyDrive/FYP/DataSet/Validation'\n",
        "test_path = '/content/drive/MyDrive/FYP/DataSet/Test'\n"
      ]
    },
    {
      "cell_type": "code",
      "source": [
        "# re-load the VGG19 model with imagenet pre-trained weights\n",
        "vgg = VGG19(input_shape=(224,224,3), weights='imagenet', include_top=False)\n",
        "\n",
        "# freeze the layers\n",
        "for layer in vgg.layers:\n",
        "    layer.trainable = False\n",
        "\n",
        "# add new layers\n",
        "x = Flatten()(vgg.output)\n",
        "x = Dense(units=4096, activation='relu')(x)\n",
        "x = Dropout(0.5)(x)\n",
        "x = Dense(units=4096, activation='relu')(x)\n",
        "x = Dropout(0.5)(x)\n",
        "x = Dense(units=2, activation='softmax')(x)\n",
        "\n",
        "# create a model object\n",
        "model = Model(inputs=vgg.input, outputs=x)\n",
        "\n",
        "# view the structure of the model\n",
        "model.summary()\n",
        "\n",
        "# compile the model\n",
        "model.compile(optimizer='adam', loss='categorical_crossentropy', metrics=['accuracy'])\n"
      ],
      "metadata": {
        "id": "Bl4Y7wRrb9zA"
      },
      "execution_count": null,
      "outputs": []
    },
    {
      "cell_type": "code",
      "execution_count": null,
      "metadata": {
        "id": "m85SFUldxuZe"
      },
      "outputs": [],
      "source": [
        "#Using ImageDataGenerator to read images from directories\n",
        "\n",
        "#Rescale all images by 1/255\n",
        "\n",
        "from keras.preprocessing.image import ImageDataGenerator\n",
        "\n",
        "train_datagen = ImageDataGenerator(rescale=1./255,\n",
        "                                   shear_range=0.2,\n",
        "                                   zoom_range=0.2,\n",
        "                                   horizontal_flip=True)\n",
        "\n",
        "valid_datagen = ImageDataGenerator(rescale=1./255)\n",
        "\n",
        "training_set = train_datagen.flow_from_directory(train_path,\n",
        "                                                 target_size=(224, 224),\n",
        "                                                 batch_size=32,\n",
        "                                                 class_mode='categorical')\n",
        "\n",
        "testing_set = valid_datagen.flow_from_directory(test_path,\n",
        "                                            target_size=(224, 224),\n",
        "                                            batch_size=32,\n",
        "                                            class_mode='categorical')"
      ]
    },
    {
      "cell_type": "code",
      "execution_count": null,
      "metadata": {
        "id": "IA4QhsWm2GHT"
      },
      "outputs": [],
      "source": [
        "from os import listdir\n",
        "\n",
        "label = listdir(train_path)\n",
        "numClass = len(label)\n",
        "print (label)"
      ]
    },
    {
      "cell_type": "code",
      "execution_count": null,
      "metadata": {
        "id": "cS-77sJ12KWo"
      },
      "outputs": [],
      "source": [
        "from keras.callbacks import ModelCheckpoint, EarlyStopping\n",
        "\n",
        " #checkpoint\n",
        "checkpoint = ModelCheckpoint(\"/content/drive/MyDrive/FYP/modelV2_VGG19_8to2_ep20.h5\",verbose= 1, save_best_only = True)\n",
        "\n",
        "# # don't train existing weights\n",
        "# for layer in vgg.layers:\n",
        "#     layer.trainable = False\n",
        "\n",
        "r = model.fit(training_set, epochs=20, validation_data=testing_set, validation_steps=1,\n",
        "          shuffle=True,\n",
        "          callbacks=checkpoint)"
      ]
    },
    {
      "cell_type": "code",
      "source": [
        "from imutils import paths \n",
        "import os\n",
        "from os import listdir\n",
        "from tensorflow.keras.preprocessing.image import img_to_array\n",
        "import cv2\n",
        "from sklearn.metrics import classification_report, confusion_matrix\n",
        "import seaborn as sns\n"
      ],
      "metadata": {
        "id": "-yoim2-1UNd2"
      },
      "execution_count": null,
      "outputs": []
    },
    {
      "cell_type": "code",
      "source": [
        "from sklearn.metrics import classification_report, confusion_matrix\n",
        "import pandas as pd # data processing, CSV file I/O (e.g. pd.read_csv)\n",
        "import seaborn as sns\n",
        "import matplotlib.pyplot as plt\n",
        "from matplotlib import cm\n",
        "import itertools\n"
      ],
      "metadata": {
        "id": "_J1wr-EDdrE8"
      },
      "execution_count": null,
      "outputs": []
    },
    {
      "cell_type": "code",
      "source": [
        "test_imgs, test_labels = next(testing_set)\n",
        "# ensemble predictions and submit\n",
        "results = np.zeros( (200,2) )\n",
        "results = model.predict(test_imgs, verbose = 1)\n",
        "results = np.argmax(results, axis = -1)\n",
        "print(results)\n",
        "test_labels = np.argmax(test_labels,axis = -1)\n",
        "test_labels\n",
        "print(test_labels)\n",
        "# confusion matrix\n",
        "cm = confusion_matrix(y_true=test_labels, y_pred=results)\n",
        "cm = pd.DataFrame(cm , index = ['0','1'] , columns = ['0','1'])\n",
        "plt.figure(figsize = (10,10))\n",
        "sns.heatmap(cm,cmap= \"OrRd\", linecolor = 'white' , linewidth = 1 , annot = True, fmt='', xticklabels = label, yticklabels = label)\n",
        "plt.show()\n"
      ],
      "metadata": {
        "id": "on0G6zaOdxN3"
      },
      "execution_count": null,
      "outputs": []
    },
    {
      "cell_type": "code",
      "execution_count": null,
      "metadata": {
        "id": "S4J1sbh6RD6j"
      },
      "outputs": [],
      "source": [
        "test_predict = model.predict(testing_set)\n",
        "\n",
        "predict_class1 = np.argmax(test_predict, axis=1)\n",
        "predict_class1 = predict_class1.tolist()\n",
        "\n",
        "labels = ['abnormal', 'normal']\n",
        "report1 = classification_report(testing_set.classes,predict_class1, target_names=labels)\n",
        "print(report1)"
      ]
    },
    {
      "cell_type": "code",
      "source": [
        "from imutils import paths \n",
        "import os\n",
        "from os import listdir\n",
        "from tensorflow.keras.preprocessing.image import img_to_array\n",
        "import cv2\n",
        "from sklearn.metrics import classification_report, confusion_matrix\n",
        "import seaborn as sns\n",
        "\n",
        "# load the best model\n",
        "from keras.models import load_model\n",
        "model = load_model(\"/content/drive/MyDrive/FYP/modelV2_VGG19_8to2_ep20.h5\")\n",
        "\n",
        "classname = [\"abnormal\", \"normal\"]\n",
        "data = []\n",
        "labels = []\n",
        "imagePaths = sorted(list(paths.list_images(test_path)))\n",
        "\n",
        "for imgPath in imagePaths:\n",
        "    img = cv2.imread(imgPath)\n",
        "    ori = img.copy()\n",
        "    img = cv2.resize(img, (224, 224))\n",
        "    img = img_to_array(img)\n",
        "    lbl = imgPath.split(os.path.sep)[-1]\n",
        "    data.append(img)\n",
        "    labels.append(lbl)\n",
        "\n",
        "data = np.array(data)/255\n",
        "labels = np.array(labels)\n",
        "prediction = model.predict(data)\n",
        "y_pred = np.argmax(prediction, axis=1)\n",
        "\n",
        "for i in range(len(imagePaths)):\n",
        "    a = prediction[i]\n",
        "    ind = np.argmax(a)\n",
        "    print(labels[i], \" \", ind, classname[ind])\n",
        "\n",
        "print(y_pred)\n",
        "print('Classification report')\n",
        "print(classification_report(testing_set.classes, y_pred, target_names=classname))\n",
        "print('Confusion Matrix')\n",
        "print(confusion_matrix(testing_set.classes, y_pred))\n",
        "\n",
        "cm = confusion_matrix(testing_set.classes, y_pred)\n",
        "plt.figure(figsize=(12, 12))\n",
        "plt.title(\"Confusion Matrix\")\n",
        "ax = sns.heatmap(cm, cmap=plt.cm.Greens, annot=True, fmt=\".0f\", xticklabels=classname, yticklabels=classname)\n",
        "plt.rcParams.update({\"font.size\":30})\n",
        "ax.tick_params(axis=\"both\", which=\"major\", labelsize=20)\n",
        "ax.set_ylabel(\"Actual\", fontsize=36)\n",
        "ax.set_xlabel(\"Predicted\", fontsize=36)\n",
        "plt.show()\n"
      ],
      "metadata": {
        "id": "s4Adxo8nLumU"
      },
      "execution_count": null,
      "outputs": []
    }
  ]
}